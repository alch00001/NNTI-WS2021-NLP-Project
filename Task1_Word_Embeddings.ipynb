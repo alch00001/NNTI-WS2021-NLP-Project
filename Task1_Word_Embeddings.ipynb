{
  "nbformat": 4,
  "nbformat_minor": 0,
  "metadata": {
    "kernelspec": {
      "name": "python3",
      "display_name": "Python 3"
    },
    "colab": {
      "name": "NNTI_final_project_task_1.ipynb",
      "provenance": [],
      "collapsed_sections": []
    },
    "accelerator": "GPU"
  },
  "cells": [
    {
      "cell_type": "markdown",
      "metadata": {
        "id": "_VZXi_KGi0UR"
      },
      "source": [
        "# Task 1: Word Embeddings (10 points)\r\n",
        "\r\n",
        "This notebook will guide you through all steps necessary to train a word2vec model (Detailed description in the PDF)."
      ]
    },
    {
      "cell_type": "markdown",
      "metadata": {
        "id": "48t-II1vkuau"
      },
      "source": [
        "## Imports\r\n",
        "\r\n",
        "This code block is reserved for your imports. \r\n",
        "\r\n",
        "You are free to use the following packages: \r\n",
        "\r\n",
        "(List of packages)"
      ]
    },
    {
      "cell_type": "code",
      "metadata": {
        "id": "4kh6nh84-AOL"
      },
      "source": [
        "# Imports\n",
        "import pandas as pd\n",
        "import torch\n",
        "import string"
      ],
      "execution_count": 9,
      "outputs": []
    },
    {
      "cell_type": "markdown",
      "metadata": {
        "id": "NWmk3hVllEcU"
      },
      "source": [
        "# 1.1 Get the data (0.5 points)\r\n",
        "\r\n",
        "The Hindi portion HASOC corpus from [github.io](https://hasocfire.github.io/hasoc/2019/dataset.html) is already available in the repo, at data/hindi_hatespeech.tsv . Load it into a data structure of your choice. Then, split off a small part of the corpus as a development set (~100 data points).\r\n",
        "\r\n",
        "If you are using Colab the first two lines will let you upload folders or files from your local file system."
      ]
    },
    {
      "cell_type": "code",
      "metadata": {
        "id": "XtI7DJ-0-AOP",
        "colab": {
          "base_uri": "https://localhost:8080/",
          "height": 359
        },
        "outputId": "ff32d747-7ac5-42e2-e2a5-4b0a775eac1c"
      },
      "source": [
        "#TODO: implement!\n",
        "url = 'https://raw.githubusercontent.com/alch00001/NNTI-WS2021-NLP-Project/main/data/hindi_hatespeech.tsv'\n",
        "data =pd.read_csv(url, sep='\\t')\n",
        "data.head(10)"
      ],
      "execution_count": 24,
      "outputs": [
        {
          "output_type": "execute_result",
          "data": {
            "text/html": [
              "<div>\n",
              "<style scoped>\n",
              "    .dataframe tbody tr th:only-of-type {\n",
              "        vertical-align: middle;\n",
              "    }\n",
              "\n",
              "    .dataframe tbody tr th {\n",
              "        vertical-align: top;\n",
              "    }\n",
              "\n",
              "    .dataframe thead th {\n",
              "        text-align: right;\n",
              "    }\n",
              "</style>\n",
              "<table border=\"1\" class=\"dataframe\">\n",
              "  <thead>\n",
              "    <tr style=\"text-align: right;\">\n",
              "      <th></th>\n",
              "      <th>text_id</th>\n",
              "      <th>text</th>\n",
              "      <th>task_1</th>\n",
              "      <th>task_2</th>\n",
              "      <th>task_3</th>\n",
              "    </tr>\n",
              "  </thead>\n",
              "  <tbody>\n",
              "    <tr>\n",
              "      <th>0</th>\n",
              "      <td>hasoc_hi_5556</td>\n",
              "      <td>बांग्लादेश की शानदार वापसी, भारत को 314 रन पर ...</td>\n",
              "      <td>NOT</td>\n",
              "      <td>NONE</td>\n",
              "      <td>NONE</td>\n",
              "    </tr>\n",
              "    <tr>\n",
              "      <th>1</th>\n",
              "      <td>hasoc_hi_5648</td>\n",
              "      <td>सब रंडी नाच देखने मे व्यस्त जैसे ही कोई #शांती...</td>\n",
              "      <td>HOF</td>\n",
              "      <td>PRFN</td>\n",
              "      <td>UNT</td>\n",
              "    </tr>\n",
              "    <tr>\n",
              "      <th>2</th>\n",
              "      <td>hasoc_hi_164</td>\n",
              "      <td>तुम जैसे हरामियों के लिए बस जूतों की कमी है शु...</td>\n",
              "      <td>HOF</td>\n",
              "      <td>PRFN</td>\n",
              "      <td>TIN</td>\n",
              "    </tr>\n",
              "    <tr>\n",
              "      <th>3</th>\n",
              "      <td>hasoc_hi_3530</td>\n",
              "      <td>बीजेपी MLA आकाश विजयवर्गीय जेल से रिहा, जमानत ...</td>\n",
              "      <td>NOT</td>\n",
              "      <td>NONE</td>\n",
              "      <td>NONE</td>\n",
              "    </tr>\n",
              "    <tr>\n",
              "      <th>4</th>\n",
              "      <td>hasoc_hi_5206</td>\n",
              "      <td>चमकी बुखार: विधानसभा परिसर में आरजेडी का प्रदर...</td>\n",
              "      <td>NOT</td>\n",
              "      <td>NONE</td>\n",
              "      <td>NONE</td>\n",
              "    </tr>\n",
              "    <tr>\n",
              "      <th>5</th>\n",
              "      <td>hasoc_hi_5121</td>\n",
              "      <td>मुंबई में बारिश से लोगों को काफी समस्या हो रही है</td>\n",
              "      <td>NOT</td>\n",
              "      <td>NONE</td>\n",
              "      <td>NONE</td>\n",
              "    </tr>\n",
              "    <tr>\n",
              "      <th>6</th>\n",
              "      <td>hasoc_hi_7142</td>\n",
              "      <td>Ahmed's dad:-- beta aaj teri mammy kyu nahi ba...</td>\n",
              "      <td>NOT</td>\n",
              "      <td>NONE</td>\n",
              "      <td>NONE</td>\n",
              "    </tr>\n",
              "    <tr>\n",
              "      <th>7</th>\n",
              "      <td>hasoc_hi_4321</td>\n",
              "      <td>5 लाख मुसलमान उर्स में, अजमेर की दरगाह पर आते ...</td>\n",
              "      <td>NOT</td>\n",
              "      <td>NONE</td>\n",
              "      <td>NONE</td>\n",
              "    </tr>\n",
              "    <tr>\n",
              "      <th>8</th>\n",
              "      <td>hasoc_hi_4674</td>\n",
              "      <td>Do mahashaktiyan mili hain, charo taraf khusi ...</td>\n",
              "      <td>NOT</td>\n",
              "      <td>NONE</td>\n",
              "      <td>NONE</td>\n",
              "    </tr>\n",
              "    <tr>\n",
              "      <th>9</th>\n",
              "      <td>hasoc_hi_1637</td>\n",
              "      <td>Chants of 'Jai Sri Ram' as Owaisi takes oath: ...</td>\n",
              "      <td>NOT</td>\n",
              "      <td>NONE</td>\n",
              "      <td>NONE</td>\n",
              "    </tr>\n",
              "  </tbody>\n",
              "</table>\n",
              "</div>"
            ],
            "text/plain": [
              "         text_id  ... task_3\n",
              "0  hasoc_hi_5556  ...   NONE\n",
              "1  hasoc_hi_5648  ...    UNT\n",
              "2   hasoc_hi_164  ...    TIN\n",
              "3  hasoc_hi_3530  ...   NONE\n",
              "4  hasoc_hi_5206  ...   NONE\n",
              "5  hasoc_hi_5121  ...   NONE\n",
              "6  hasoc_hi_7142  ...   NONE\n",
              "7  hasoc_hi_4321  ...   NONE\n",
              "8  hasoc_hi_4674  ...   NONE\n",
              "9  hasoc_hi_1637  ...   NONE\n",
              "\n",
              "[10 rows x 5 columns]"
            ]
          },
          "metadata": {
            "tags": []
          },
          "execution_count": 24
        }
      ]
    },
    {
      "cell_type": "markdown",
      "metadata": {
        "id": "D-mSJ8nUlupB"
      },
      "source": [
        "## 1.2 Data preparation (0.5 + 0.5 points)\r\n",
        "\r\n",
        "* Prepare the data by removing everything that does not contain information. \r\n",
        "User names (starting with '@') and punctuation symbols clearly do not convey information, but we also want to get rid of so-called [stopwords](https://en.wikipedia.org/wiki/Stop_word), i. e. words that have little to no semantic content (and, but, yes, the...). Hindi stopwords can be found [here](https://github.com/stopwords-iso/stopwords-hi/blob/master/stopwords-hi.txt) Then, standardize the spelling by lowercasing all words.\r\n",
        "Do this for the development section of the corpus for now.\r\n",
        "\r\n",
        "* What about hashtags (starting with '#') and emojis? Should they be removed too? Justify your answer in the report, and explain how you accounted for this in your implementation."
      ]
    },
    {
      "cell_type": "code",
      "metadata": {
        "id": "CHcNeyKi-AOQ",
        "colab": {
          "base_uri": "https://localhost:8080/",
          "height": 359
        },
        "outputId": "c4987bee-63e0-4777-a612-88501fc93899"
      },
      "source": [
        "#TODO: implement!\n",
        "#remove URLS\n",
        "#remove usernames\n",
        "data.replace('@[\\w]+','', regex=True, inplace=True)\n",
        "#remove other puncutation\n",
        "data.replace('[{}]'.format(string.punctuation),'', regex=True, inplace=True)\n",
        "\n",
        "#remove stopwords\n",
        "\n",
        "data.head(10)"
      ],
      "execution_count": 25,
      "outputs": [
        {
          "output_type": "execute_result",
          "data": {
            "text/html": [
              "<div>\n",
              "<style scoped>\n",
              "    .dataframe tbody tr th:only-of-type {\n",
              "        vertical-align: middle;\n",
              "    }\n",
              "\n",
              "    .dataframe tbody tr th {\n",
              "        vertical-align: top;\n",
              "    }\n",
              "\n",
              "    .dataframe thead th {\n",
              "        text-align: right;\n",
              "    }\n",
              "</style>\n",
              "<table border=\"1\" class=\"dataframe\">\n",
              "  <thead>\n",
              "    <tr style=\"text-align: right;\">\n",
              "      <th></th>\n",
              "      <th>text_id</th>\n",
              "      <th>text</th>\n",
              "      <th>task_1</th>\n",
              "      <th>task_2</th>\n",
              "      <th>task_3</th>\n",
              "    </tr>\n",
              "  </thead>\n",
              "  <tbody>\n",
              "    <tr>\n",
              "      <th>0</th>\n",
              "      <td>hasochi5556</td>\n",
              "      <td>बांग्लादेश की शानदार वापसी भारत को 314 रन पर र...</td>\n",
              "      <td>NOT</td>\n",
              "      <td>NONE</td>\n",
              "      <td>NONE</td>\n",
              "    </tr>\n",
              "    <tr>\n",
              "      <th>1</th>\n",
              "      <td>hasochi5648</td>\n",
              "      <td>सब रंडी नाच देखने मे व्यस्त जैसे ही कोई शांतीद...</td>\n",
              "      <td>HOF</td>\n",
              "      <td>PRFN</td>\n",
              "      <td>UNT</td>\n",
              "    </tr>\n",
              "    <tr>\n",
              "      <th>2</th>\n",
              "      <td>hasochi164</td>\n",
              "      <td>तुम जैसे हरामियों के लिए बस जूतों की कमी है शु...</td>\n",
              "      <td>HOF</td>\n",
              "      <td>PRFN</td>\n",
              "      <td>TIN</td>\n",
              "    </tr>\n",
              "    <tr>\n",
              "      <th>3</th>\n",
              "      <td>hasochi3530</td>\n",
              "      <td>बीजेपी MLA आकाश विजयवर्गीय जेल से रिहा जमानत म...</td>\n",
              "      <td>NOT</td>\n",
              "      <td>NONE</td>\n",
              "      <td>NONE</td>\n",
              "    </tr>\n",
              "    <tr>\n",
              "      <th>4</th>\n",
              "      <td>hasochi5206</td>\n",
              "      <td>चमकी बुखार विधानसभा परिसर में आरजेडी का प्रदर्...</td>\n",
              "      <td>NOT</td>\n",
              "      <td>NONE</td>\n",
              "      <td>NONE</td>\n",
              "    </tr>\n",
              "    <tr>\n",
              "      <th>5</th>\n",
              "      <td>hasochi5121</td>\n",
              "      <td>मुंबई में बारिश से लोगों को काफी समस्या हो रही है</td>\n",
              "      <td>NOT</td>\n",
              "      <td>NONE</td>\n",
              "      <td>NONE</td>\n",
              "    </tr>\n",
              "    <tr>\n",
              "      <th>6</th>\n",
              "      <td>hasochi7142</td>\n",
              "      <td>Ahmeds dad beta aaj teri mammy kyu nahi baat k...</td>\n",
              "      <td>NOT</td>\n",
              "      <td>NONE</td>\n",
              "      <td>NONE</td>\n",
              "    </tr>\n",
              "    <tr>\n",
              "      <th>7</th>\n",
              "      <td>hasochi4321</td>\n",
              "      <td>5 लाख मुसलमान उर्स में अजमेर की दरगाह पर आते ह...</td>\n",
              "      <td>NOT</td>\n",
              "      <td>NONE</td>\n",
              "      <td>NONE</td>\n",
              "    </tr>\n",
              "    <tr>\n",
              "      <th>8</th>\n",
              "      <td>hasochi4674</td>\n",
              "      <td>Do mahashaktiyan mili hain charo taraf khusi k...</td>\n",
              "      <td>NOT</td>\n",
              "      <td>NONE</td>\n",
              "      <td>NONE</td>\n",
              "    </tr>\n",
              "    <tr>\n",
              "      <th>9</th>\n",
              "      <td>hasochi1637</td>\n",
              "      <td>Chants of Jai Sri Ram as Owaisi takes oath AIM...</td>\n",
              "      <td>NOT</td>\n",
              "      <td>NONE</td>\n",
              "      <td>NONE</td>\n",
              "    </tr>\n",
              "  </tbody>\n",
              "</table>\n",
              "</div>"
            ],
            "text/plain": [
              "       text_id                                               text  ... task_2 task_3\n",
              "0  hasochi5556  बांग्लादेश की शानदार वापसी भारत को 314 रन पर र...  ...   NONE   NONE\n",
              "1  hasochi5648  सब रंडी नाच देखने मे व्यस्त जैसे ही कोई शांतीद...  ...   PRFN    UNT\n",
              "2   hasochi164  तुम जैसे हरामियों के लिए बस जूतों की कमी है शु...  ...   PRFN    TIN\n",
              "3  hasochi3530  बीजेपी MLA आकाश विजयवर्गीय जेल से रिहा जमानत म...  ...   NONE   NONE\n",
              "4  hasochi5206  चमकी बुखार विधानसभा परिसर में आरजेडी का प्रदर्...  ...   NONE   NONE\n",
              "5  hasochi5121  मुंबई में बारिश से लोगों को काफी समस्या हो रही है  ...   NONE   NONE\n",
              "6  hasochi7142  Ahmeds dad beta aaj teri mammy kyu nahi baat k...  ...   NONE   NONE\n",
              "7  hasochi4321  5 लाख मुसलमान उर्स में अजमेर की दरगाह पर आते ह...  ...   NONE   NONE\n",
              "8  hasochi4674  Do mahashaktiyan mili hain charo taraf khusi k...  ...   NONE   NONE\n",
              "9  hasochi1637  Chants of Jai Sri Ram as Owaisi takes oath AIM...  ...   NONE   NONE\n",
              "\n",
              "[10 rows x 5 columns]"
            ]
          },
          "metadata": {
            "tags": []
          },
          "execution_count": 25
        }
      ]
    },
    {
      "cell_type": "markdown",
      "metadata": {
        "id": "Je09nozLmmMm"
      },
      "source": [
        "## 1.3 Build the vocabulary (0.5 + 0.5 points)\r\n",
        "\r\n",
        "The input to the first layer of word2vec is an one-hot encoding of the current word. The output od the model is then compared to a numeric class label of the words within the size of the skip-gram window. Now\r\n",
        "\r\n",
        "* Compile a list of all words in the development section of your corpus and save it in a variable ```V```."
      ]
    },
    {
      "cell_type": "code",
      "metadata": {
        "id": "VpoGmTKx-AOQ"
      },
      "source": [
        "#TODO: implement!\n",
        "V = "
      ],
      "execution_count": null,
      "outputs": []
    },
    {
      "cell_type": "markdown",
      "metadata": {
        "id": "WiaVglVNoENY"
      },
      "source": [
        "* Then, write a function ```word_to_one_hot``` that returns a one-hot encoding of an arbitrary word in the vocabulary. The size of the one-hot encoding should be ```len(v)```."
      ]
    },
    {
      "cell_type": "code",
      "metadata": {
        "id": "yqPNw6IT-AOQ"
      },
      "source": [
        "#TODO: implement!\n",
        "def word_to_one_hot(word):\n",
        "  pass"
      ],
      "execution_count": null,
      "outputs": []
    },
    {
      "cell_type": "markdown",
      "metadata": {
        "id": "gKD8zBlxVclh"
      },
      "source": [
        "## 1.4 Subsampling (0.5 points)\r\n",
        "\r\n",
        "The probability to keep a word in a context is given by:\r\n",
        "\r\n",
        "$P_{keep}(w_i) = \\Big(\\sqrt{\\frac{z(w_i)}{0.001}}+1\\Big) \\cdot \\frac{0.001}{z(w_i)}$\r\n",
        "\r\n",
        "Where $z(w_i)$ is the relative frequency of the word $w_i$ in the corpus. Now,\r\n",
        "* Calculate word frequencies\r\n",
        "* Define a function ```sampling_prob``` that takes a word (string) as input and returns the probabiliy to **keep** the word in a context."
      ]
    },
    {
      "cell_type": "code",
      "metadata": {
        "id": "Mj4sDOVMMr0b"
      },
      "source": [
        "#TODO: implement!\r\n",
        "def sampling_prob(word):\r\n",
        "  pass"
      ],
      "execution_count": null,
      "outputs": []
    },
    {
      "cell_type": "markdown",
      "metadata": {
        "id": "kxV1P90zplxu"
      },
      "source": [
        "# 1.5 Skip-Grams (1 point)\r\n",
        "\r\n",
        "Now that you have the vocabulary and one-hot encodings at hand, you can start to do the actual work. The skip gram model requires training data of the shape ```(current_word, context)```, with ```context``` being the words before and/or after ```current_word``` within ```window_size```. \r\n",
        "\r\n",
        "* Have closer look on the original paper. If you feel to understand how skip-gram works, implement a function ```get_target_context``` that takes a sentence as input and [yield](https://docs.python.org/3.9/reference/simple_stmts.html#the-yield-statement)s a ```(current_word, context)```.\r\n",
        "\r\n",
        "* Use your ```sampling_prob``` function to drop words from contexts as you sample them. "
      ]
    },
    {
      "cell_type": "code",
      "metadata": {
        "id": "r8CCTpVy-AOR"
      },
      "source": [
        "#TODO: implement!\n",
        "\n",
        "def get_target_context(sentence):\n",
        "  pass"
      ],
      "execution_count": null,
      "outputs": []
    },
    {
      "cell_type": "markdown",
      "metadata": {
        "id": "gfEFgtkmuDjL"
      },
      "source": [
        "# 1.6 Hyperparameters (0.5 points)\r\n",
        "\r\n",
        "According to the word2vec paper, what would be a good choice for the following hyperparameters? \r\n",
        "\r\n",
        "* Embedding dimension\r\n",
        "* Window size\r\n",
        "\r\n",
        "Initialize them in a dictionary or as independent variables in the code block below. "
      ]
    },
    {
      "cell_type": "code",
      "metadata": {
        "id": "d7xSKuFJcYoD"
      },
      "source": [
        "# Set hyperparameters\n",
        "window_size = \n",
        "embedding_size = \n",
        "\n",
        "# More hyperparameters\n",
        "learning_rate = 0.05\n",
        "epochs = 100"
      ],
      "execution_count": null,
      "outputs": []
    },
    {
      "cell_type": "markdown",
      "metadata": {
        "id": "xiM2zq-YunPx"
      },
      "source": [
        "# 1.7 Pytorch Module (0.5 + 0.5 + 0.5 points)\r\n",
        "\r\n",
        "Pytorch provides a wrapper for your fancy and super-complex models: [torch.nn.Module](https://pytorch.org/docs/stable/generated/torch.nn.Module.html). The code block below contains a skeleton for such a wrapper. Now,\r\n",
        "\r\n",
        "* Initialize the two weight matrices of word2vec as fields of the class.\r\n",
        "\r\n",
        "* Override the ```forward``` method of this class. It should take a one-hot encoding as input, perform the matrix multiplications, and finally apply a log softmax on the output layer.\r\n",
        "\r\n",
        "* Initialize the model and save its weights in a variable. The Pytorch documentation will tell you how to do that."
      ]
    },
    {
      "cell_type": "code",
      "metadata": {
        "colab": {
          "base_uri": "https://localhost:8080/"
        },
        "id": "D9sGNytYhwxS",
        "outputId": "41645b64-e4ed-4e6a-e10f-74cb39b92230"
      },
      "source": [
        "# Create model \n",
        "\n",
        "class Word2Vec(Module):\n",
        "  def __init__(self):\n",
        "    super().__init__()\n",
        "\n",
        "\n",
        "  def forward(self, one_hot):\n",
        "    pass"
      ],
      "execution_count": null,
      "outputs": [
        {
          "output_type": "stream",
          "text": [
            "Word2Vec(\n",
            "  (input): Linear(in_features=534, out_features=300, bias=False)\n",
            "  (output): Linear(in_features=300, out_features=534, bias=False)\n",
            ")\n"
          ],
          "name": "stdout"
        }
      ]
    },
    {
      "cell_type": "markdown",
      "metadata": {
        "id": "XefIDMMHv5zJ"
      },
      "source": [
        "# 1.8 Loss function and optimizer (0.5 points)\r\n",
        "\r\n",
        "Initialize variables with [optimizer](https://pytorch.org/docs/stable/optim.html#module-torch.optim) and loss function. You can take what is used in the word2vec paper, but you can use alternative optimizers/loss functions if you explain your choice in the report."
      ]
    },
    {
      "cell_type": "code",
      "metadata": {
        "id": "V9-Ino-e29w3"
      },
      "source": [
        "# Define optimizer and loss\n",
        "optimizer = \n",
        "criterion = "
      ],
      "execution_count": null,
      "outputs": []
    },
    {
      "cell_type": "markdown",
      "metadata": {
        "id": "ckTfK78Ew8wI"
      },
      "source": [
        "# 1.9 Training the model (3 points)\r\n",
        "\r\n",
        "As everything is prepared, implement a training loop that performs several passes of the data set through the model. You are free to do this as you please, but your code should:\r\n",
        "\r\n",
        "* Load the weights saved in 1.6 at the start of every execution of the code block\r\n",
        "* Print the accumulated loss at least after every epoch (the accumulate loss should be reset after every epoch)\r\n",
        "* Define a criterion for the training procedure to terminate if a certain loss value is reached. You can find the threshold by observing the loss for the development set.\r\n",
        "\r\n",
        "You can play around with the number of epochs and the learning rate."
      ]
    },
    {
      "cell_type": "code",
      "metadata": {
        "id": "LbMGD5L0mLDx"
      },
      "source": [
        "# Define train procedure\n",
        "\n",
        "# load initial weights\n",
        "\n",
        "def train():\n",
        " \n",
        "  print(\"Training started\")\n",
        "\n",
        "train()\n",
        "\n",
        "print(\"Training finished\")"
      ],
      "execution_count": null,
      "outputs": []
    },
    {
      "cell_type": "markdown",
      "metadata": {
        "id": "BgQkaYstyj0Q"
      },
      "source": [
        "# 1.10 Train on the full dataset (0.5 points)\r\n",
        "\r\n",
        "Now, go back to 1.1 and remove the restriction on the number of sentences in your corpus. Then, reexecute code blocks 1.2, 1.3 and 1.6 (or those relevant if you created additional ones). \r\n",
        "\r\n",
        "* Then, retrain your model on the complete dataset.\r\n",
        "\r\n",
        "* Now, the input weights of the model contain the desired word embeddings! Save them together with the corresponding vocabulary items (Pytorch provides a nice [functionality](https://pytorch.org/tutorials/beginner/saving_loading_models.html) for this)."
      ]
    },
    {
      "cell_type": "code",
      "metadata": {
        "id": "4x8hQP_bg4_g"
      },
      "source": [
        ""
      ],
      "execution_count": null,
      "outputs": []
    }
  ]
}